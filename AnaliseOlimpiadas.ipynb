{
  "nbformat": 4,
  "nbformat_minor": 0,
  "metadata": {
    "colab": {
      "name": "Projeto_AnáliseELimpeza_TA.ipynb",
      "provenance": [],
      "collapsed_sections": []
    },
    "kernelspec": {
      "name": "python3",
      "display_name": "Python 3"
    },
    "language_info": {
      "name": "python"
    }
  },
  "cells": [
    {
      "cell_type": "markdown",
      "metadata": {
        "id": "d1FPM1UWXJxC"
      },
      "source": [
        "# Projetinho 1 TA - Análise e Limpeza de Dados\n",
        "**Escrito por:** Letícia Agudo Falconer\n",
        "\n",
        "Esse projeto tem como objetivo colocar em prática os conceitos vistos no Turing Academy até o momento, utilizando o dataset apresentado a seguir para encontrar possíveis padrões entre os ganhadores de medalhas das edições passadas das Olimpíadas.\n"
      ]
    },
    {
      "cell_type": "markdown",
      "metadata": {
        "id": "Ibc8Xe91bLP4"
      },
      "source": [
        "##Importação das Bibliotecas:"
      ]
    },
    {
      "cell_type": "code",
      "metadata": {
        "id": "w513JOdMbTaR"
      },
      "source": [
        "import numpy as np\n",
        "import pandas as pd\n",
        "import matplotlib.pyplot as plt\n",
        "import seaborn as sns\n",
        "\n",
        "%matplotlib inline"
      ],
      "execution_count": 1,
      "outputs": []
    },
    {
      "cell_type": "markdown",
      "metadata": {
        "id": "akCGLmOfZGEe"
      },
      "source": [
        "##Sobre o Dataset:\n"
      ]
    },
    {
      "cell_type": "markdown",
      "metadata": {
        "id": "2mEFI_NWarnj"
      },
      "source": [
        "O dataset que será utilizado traz informações à respeito dos atletas que participaram dos jogos olimpicos passados\n",
        "\n",
        "**Colunas:**\n",
        "1. **Athlete_ID** - Um número de identificação único de cada atleta\n",
        "2. **Name** - Nome do atleta\n",
        "3. **Sex** - Gênero do atleta: M (masculino) ou F (feminino)\n",
        "4. **Age** - Idade\n",
        "5. **Height** - Altura em centímetros\n",
        "6. **Weight** - Peso em kg\n",
        "7. **Team** - Nome do time ao qual o atleta pertence\n",
        "8. **NOC** - Nome do comitê olímpico nacional ao qual o atleta pertence, sempre\n",
        "será um código de 3 letras (BRA para Brasil, USA para Estados Unidos, etc.)\n",
        "9. **Games** - Ano e época dos jogos\n",
        "10. **Year** - Ano da edição que o atleta participou\n",
        "11. **Season** - Estação na qual ocorreu os jogos Summer (verão) ou Winter (inverno) \n",
        "12. **City** - Cidade onde ocorreu a edição dos jogos\n",
        "13. **Sport** - Esporte do atleta\n",
        "14. **Event** - Especificação a respeito da categoria do esporte (Ex. Futebol\n",
        "masculino, vôlei feminino, corrida 500m, etc.)\n",
        "15. **Medal** - Medalha ganha pelo atleta: Gold (ouro), Silver (prata), Bronze, ou NA\n",
        "(nenhuma medalha)"
      ]
    },
    {
      "cell_type": "markdown",
      "metadata": {
        "id": "5ZKOfJKWa7V1"
      },
      "source": [
        "Em primeiro lugar, vamos importá-lo e definir a coluna \"ID\" como index do dataset."
      ]
    },
    {
      "cell_type": "code",
      "metadata": {
        "id": "SZG3ePpEXHF4"
      },
      "source": [
        "jogos = pd.read_csv(\"df_athlete_events.csv\") \n",
        "jogos.set_index(\"Athlete_ID\", inplace=True)"
      ],
      "execution_count": 2,
      "outputs": []
    },
    {
      "cell_type": "markdown",
      "metadata": {
        "id": "JGfjbiQ9cLJj"
      },
      "source": [
        "Usando as funções .head() e .info(), vamos realizar algumas observações iniciais"
      ]
    },
    {
      "cell_type": "code",
      "metadata": {
        "colab": {
          "base_uri": "https://localhost:8080/",
          "height": 376
        },
        "id": "cAssQrg3c6fG",
        "outputId": "5d96a892-fef9-4ec2-e325-2c20a3c4039c"
      },
      "source": [
        "jogos.head()"
      ],
      "execution_count": 3,
      "outputs": [
        {
          "output_type": "execute_result",
          "data": {
            "text/html": [
              "<div>\n",
              "<style scoped>\n",
              "    .dataframe tbody tr th:only-of-type {\n",
              "        vertical-align: middle;\n",
              "    }\n",
              "\n",
              "    .dataframe tbody tr th {\n",
              "        vertical-align: top;\n",
              "    }\n",
              "\n",
              "    .dataframe thead th {\n",
              "        text-align: right;\n",
              "    }\n",
              "</style>\n",
              "<table border=\"1\" class=\"dataframe\">\n",
              "  <thead>\n",
              "    <tr style=\"text-align: right;\">\n",
              "      <th></th>\n",
              "      <th>Name</th>\n",
              "      <th>Sex</th>\n",
              "      <th>Age</th>\n",
              "      <th>Height</th>\n",
              "      <th>Weight</th>\n",
              "      <th>Team</th>\n",
              "      <th>NOC</th>\n",
              "      <th>Games</th>\n",
              "      <th>Year</th>\n",
              "      <th>Season</th>\n",
              "      <th>City</th>\n",
              "      <th>Sport</th>\n",
              "      <th>Event</th>\n",
              "      <th>Medal</th>\n",
              "    </tr>\n",
              "    <tr>\n",
              "      <th>Athlete_ID</th>\n",
              "      <th></th>\n",
              "      <th></th>\n",
              "      <th></th>\n",
              "      <th></th>\n",
              "      <th></th>\n",
              "      <th></th>\n",
              "      <th></th>\n",
              "      <th></th>\n",
              "      <th></th>\n",
              "      <th></th>\n",
              "      <th></th>\n",
              "      <th></th>\n",
              "      <th></th>\n",
              "      <th></th>\n",
              "    </tr>\n",
              "  </thead>\n",
              "  <tbody>\n",
              "    <tr>\n",
              "      <th>4</th>\n",
              "      <td>Edgar Lindenau Aabye</td>\n",
              "      <td>M</td>\n",
              "      <td>34.0</td>\n",
              "      <td>NaN</td>\n",
              "      <td>NaN</td>\n",
              "      <td>Denmark/Sweden</td>\n",
              "      <td>DEN</td>\n",
              "      <td>1900 Summer</td>\n",
              "      <td>1900</td>\n",
              "      <td>Summer</td>\n",
              "      <td>Paris</td>\n",
              "      <td>Tug-Of-War</td>\n",
              "      <td>Tug-Of-War Men's Tug-Of-War</td>\n",
              "      <td>Gold</td>\n",
              "    </tr>\n",
              "    <tr>\n",
              "      <th>6</th>\n",
              "      <td>Per Knut Aaland</td>\n",
              "      <td>M</td>\n",
              "      <td>31.0</td>\n",
              "      <td>188.0</td>\n",
              "      <td>75.0</td>\n",
              "      <td>United States</td>\n",
              "      <td>USA</td>\n",
              "      <td>1992 Winter</td>\n",
              "      <td>1992</td>\n",
              "      <td>Winter</td>\n",
              "      <td>Albertville</td>\n",
              "      <td>Cross Country Skiing</td>\n",
              "      <td>Cross Country Skiing Men's 10/15 kilometres Pu...</td>\n",
              "      <td>NaN</td>\n",
              "    </tr>\n",
              "    <tr>\n",
              "      <th>15</th>\n",
              "      <td>Arvo Ossian Aaltonen</td>\n",
              "      <td>M</td>\n",
              "      <td>30.0</td>\n",
              "      <td>NaN</td>\n",
              "      <td>NaN</td>\n",
              "      <td>Finland</td>\n",
              "      <td>FIN</td>\n",
              "      <td>1920 Summer</td>\n",
              "      <td>1920</td>\n",
              "      <td>Summer</td>\n",
              "      <td>Antwerpen</td>\n",
              "      <td>Swimming</td>\n",
              "      <td>Swimming Men's 200 metres Breaststroke</td>\n",
              "      <td>Bronze</td>\n",
              "    </tr>\n",
              "    <tr>\n",
              "      <th>15</th>\n",
              "      <td>Arvo Ossian Aaltonen</td>\n",
              "      <td>M</td>\n",
              "      <td>30.0</td>\n",
              "      <td>NaN</td>\n",
              "      <td>NaN</td>\n",
              "      <td>Finland</td>\n",
              "      <td>FIN</td>\n",
              "      <td>1920 Summer</td>\n",
              "      <td>1920</td>\n",
              "      <td>Summer</td>\n",
              "      <td>Antwerpen</td>\n",
              "      <td>Swimming</td>\n",
              "      <td>Swimming Men's 400 metres Breaststroke</td>\n",
              "      <td>Bronze</td>\n",
              "    </tr>\n",
              "    <tr>\n",
              "      <th>16</th>\n",
              "      <td>Juhamatti Tapio Aaltonen</td>\n",
              "      <td>M</td>\n",
              "      <td>28.0</td>\n",
              "      <td>184.0</td>\n",
              "      <td>85.0</td>\n",
              "      <td>Finland</td>\n",
              "      <td>FIN</td>\n",
              "      <td>2014 Winter</td>\n",
              "      <td>2014</td>\n",
              "      <td>Winter</td>\n",
              "      <td>Sochi</td>\n",
              "      <td>Ice Hockey</td>\n",
              "      <td>Ice Hockey Men's Ice Hockey</td>\n",
              "      <td>Bronze</td>\n",
              "    </tr>\n",
              "  </tbody>\n",
              "</table>\n",
              "</div>"
            ],
            "text/plain": [
              "                                Name  ...   Medal\n",
              "Athlete_ID                            ...        \n",
              "4               Edgar Lindenau Aabye  ...    Gold\n",
              "6                    Per Knut Aaland  ...     NaN\n",
              "15              Arvo Ossian Aaltonen  ...  Bronze\n",
              "15              Arvo Ossian Aaltonen  ...  Bronze\n",
              "16          Juhamatti Tapio Aaltonen  ...  Bronze\n",
              "\n",
              "[5 rows x 14 columns]"
            ]
          },
          "metadata": {},
          "execution_count": 3
        }
      ]
    },
    {
      "cell_type": "code",
      "metadata": {
        "colab": {
          "base_uri": "https://localhost:8080/"
        },
        "id": "JFDFuc2DdLW5",
        "outputId": "49b2c740-005e-439b-eebe-1b2fdb5eb466"
      },
      "source": [
        "jogos.info()"
      ],
      "execution_count": 4,
      "outputs": [
        {
          "output_type": "stream",
          "name": "stdout",
          "text": [
            "<class 'pandas.core.frame.DataFrame'>\n",
            "Int64Index: 45567 entries, 4 to 135563\n",
            "Data columns (total 14 columns):\n",
            " #   Column  Non-Null Count  Dtype  \n",
            "---  ------  --------------  -----  \n",
            " 0   Name    45567 non-null  object \n",
            " 1   Sex     45567 non-null  object \n",
            " 2   Age     44594 non-null  float64\n",
            " 3   Height  35547 non-null  float64\n",
            " 4   Weight  34926 non-null  object \n",
            " 5   Team    45567 non-null  object \n",
            " 6   NOC     45567 non-null  object \n",
            " 7   Games   45567 non-null  object \n",
            " 8   Year    45567 non-null  int64  \n",
            " 9   Season  45567 non-null  object \n",
            " 10  City    45567 non-null  object \n",
            " 11  Sport   45567 non-null  object \n",
            " 12  Event   45567 non-null  object \n",
            " 13  Medal   39804 non-null  object \n",
            "dtypes: float64(2), int64(1), object(11)\n",
            "memory usage: 5.2+ MB\n"
          ]
        }
      ]
    },
    {
      "cell_type": "markdown",
      "metadata": {
        "id": "Oo1LJoiCd7Qj"
      },
      "source": [
        "- São 45567 entradas no total, havendo muitos dados faltantes em diversas colunas\n",
        "- A maioria de nossos dados são categóricos (Dtype = object). Assim, é necessário checar se todos estes estão no formato correto, mas vamos analizar isso na próxima etapa do projeto."
      ]
    },
    {
      "cell_type": "markdown",
      "metadata": {
        "id": "EZa-QlNYfRGw"
      },
      "source": [
        "#Limpeza dos dados"
      ]
    },
    {
      "cell_type": "markdown",
      "metadata": {
        "id": "KH1ikJNQfYCB"
      },
      "source": [
        "##Dados Categóricos"
      ]
    },
    {
      "cell_type": "markdown",
      "metadata": {
        "id": "HaGfCTSlfbuN"
      },
      "source": [
        "Primeiro vamos utilizar o método .describe()."
      ]
    },
    {
      "cell_type": "code",
      "metadata": {
        "id": "GaUhVaClhFKv"
      },
      "source": [
        ""
      ],
      "execution_count": 4,
      "outputs": []
    },
    {
      "cell_type": "code",
      "metadata": {
        "colab": {
          "base_uri": "https://localhost:8080/",
          "height": 175
        },
        "id": "q_vcbqamfUE4",
        "outputId": "a0d04467-4488-40dc-a9a0-b230487ae0d0"
      },
      "source": [
        "jogos.describe(include=[\"object\"])"
      ],
      "execution_count": 5,
      "outputs": [
        {
          "output_type": "execute_result",
          "data": {
            "text/html": [
              "<div>\n",
              "<style scoped>\n",
              "    .dataframe tbody tr th:only-of-type {\n",
              "        vertical-align: middle;\n",
              "    }\n",
              "\n",
              "    .dataframe tbody tr th {\n",
              "        vertical-align: top;\n",
              "    }\n",
              "\n",
              "    .dataframe thead th {\n",
              "        text-align: right;\n",
              "    }\n",
              "</style>\n",
              "<table border=\"1\" class=\"dataframe\">\n",
              "  <thead>\n",
              "    <tr style=\"text-align: right;\">\n",
              "      <th></th>\n",
              "      <th>Name</th>\n",
              "      <th>Sex</th>\n",
              "      <th>Weight</th>\n",
              "      <th>Team</th>\n",
              "      <th>NOC</th>\n",
              "      <th>Games</th>\n",
              "      <th>Season</th>\n",
              "      <th>City</th>\n",
              "      <th>Sport</th>\n",
              "      <th>Event</th>\n",
              "      <th>Medal</th>\n",
              "    </tr>\n",
              "  </thead>\n",
              "  <tbody>\n",
              "    <tr>\n",
              "      <th>count</th>\n",
              "      <td>45567</td>\n",
              "      <td>45567</td>\n",
              "      <td>34926</td>\n",
              "      <td>45567</td>\n",
              "      <td>45567</td>\n",
              "      <td>45567</td>\n",
              "      <td>45567</td>\n",
              "      <td>45567</td>\n",
              "      <td>45567</td>\n",
              "      <td>45567</td>\n",
              "      <td>39804</td>\n",
              "    </tr>\n",
              "    <tr>\n",
              "      <th>unique</th>\n",
              "      <td>32905</td>\n",
              "      <td>6</td>\n",
              "      <td>188</td>\n",
              "      <td>602</td>\n",
              "      <td>201</td>\n",
              "      <td>51</td>\n",
              "      <td>5</td>\n",
              "      <td>43</td>\n",
              "      <td>66</td>\n",
              "      <td>760</td>\n",
              "      <td>4</td>\n",
              "    </tr>\n",
              "    <tr>\n",
              "      <th>top</th>\n",
              "      <td>Michael Fred Phelps, II</td>\n",
              "      <td>M</td>\n",
              "      <td>70.0</td>\n",
              "      <td>United States</td>\n",
              "      <td>USA</td>\n",
              "      <td>2008 Summer</td>\n",
              "      <td>Summer</td>\n",
              "      <td>London</td>\n",
              "      <td>Athletics</td>\n",
              "      <td>Football Men's Football</td>\n",
              "      <td>Gold</td>\n",
              "    </tr>\n",
              "    <tr>\n",
              "      <th>freq</th>\n",
              "      <td>28</td>\n",
              "      <td>31664</td>\n",
              "      <td>1443</td>\n",
              "      <td>5515</td>\n",
              "      <td>5957</td>\n",
              "      <td>2321</td>\n",
              "      <td>38607</td>\n",
              "      <td>4091</td>\n",
              "      <td>4811</td>\n",
              "      <td>1379</td>\n",
              "      <td>13320</td>\n",
              "    </tr>\n",
              "  </tbody>\n",
              "</table>\n",
              "</div>"
            ],
            "text/plain": [
              "                           Name    Sex  ...                    Event  Medal\n",
              "count                     45567  45567  ...                    45567  39804\n",
              "unique                    32905      6  ...                      760      4\n",
              "top     Michael Fred Phelps, II      M  ...  Football Men's Football   Gold\n",
              "freq                         28  31664  ...                     1379  13320\n",
              "\n",
              "[4 rows x 11 columns]"
            ]
          },
          "metadata": {},
          "execution_count": 5
        }
      ]
    },
    {
      "cell_type": "markdown",
      "metadata": {
        "id": "dgpDn17_gGk0"
      },
      "source": [
        "A princípio, podemos concluir que:\n",
        "- Temos um número maior de IDs do que de \"Name\", mas isso não será importante na análise desse dataset\n",
        "- Weight deveria ser do data type float;\n",
        "- As colunas Sex e Season deveriam possuir apenas 2 classificações diferentes.\n",
        "- Devemos checar as categorias dos outros dados\n",
        "\n"
      ]
    },
    {
      "cell_type": "markdown",
      "metadata": {
        "id": "xOE5-K6Ilf95"
      },
      "source": [
        "###Coluna \"Sex\":"
      ]
    },
    {
      "cell_type": "markdown",
      "metadata": {
        "id": "D1VavI-vnfZ8"
      },
      "source": [
        "Observando os diferentes dados de cada categoria:"
      ]
    },
    {
      "cell_type": "code",
      "metadata": {
        "colab": {
          "base_uri": "https://localhost:8080/"
        },
        "id": "yXrDC3xVlwkv",
        "outputId": "c7ef3daf-a9a5-46e9-ffd1-b8c86d376404"
      },
      "source": [
        "print(jogos[\"Sex\"].unique())"
      ],
      "execution_count": 6,
      "outputs": [
        {
          "output_type": "stream",
          "name": "stdout",
          "text": [
            "['M' 'MALE' 'FEMALE' 'F' 'Vic vai te dar um socao' 'P&D >> Comunidade']\n"
          ]
        }
      ]
    },
    {
      "cell_type": "markdown",
      "metadata": {
        "id": "JgQv7x0Qnk2r"
      },
      "source": [
        "Podemos perceber que \"MALE\" deveria ser tratado como \"M\", assim como \"FEMALE\" deveria ser apenas \"F\". Além disso, 'Vic vai te dar um socao' e 'P&D >> Comunidade' não deveriam estar nessa coluna. "
      ]
    },
    {
      "cell_type": "markdown",
      "metadata": {
        "id": "YUYx1iBwoDHy"
      },
      "source": [
        "Para os dados \"M\" e \"F\":"
      ]
    },
    {
      "cell_type": "code",
      "metadata": {
        "colab": {
          "base_uri": "https://localhost:8080/"
        },
        "id": "QCKijdUYoHd1",
        "outputId": "e8103e81-efac-4446-95e7-214d740e04cd"
      },
      "source": [
        "# Substituindo \"MALE\" por \"M\".\n",
        "jogos[\"Sex\"].replace(\"MALE\", \"M\", inplace=True)\n",
        "\n",
        "# Substituindo \"FEMALE\" por \"F\".\n",
        "jogos[\"Sex\"].replace(\"FEMALE\", \"F\", inplace=True)\n",
        "\n",
        "# Olhando novamente os dados.\n",
        "print(jogos[\"Sex\"].unique())"
      ],
      "execution_count": 7,
      "outputs": [
        {
          "output_type": "stream",
          "name": "stdout",
          "text": [
            "['M' 'F' 'Vic vai te dar um socao' 'P&D >> Comunidade']\n"
          ]
        }
      ]
    },
    {
      "cell_type": "markdown",
      "metadata": {
        "id": "d8LJOuH6omqs"
      },
      "source": [
        "Para decidir o que faremos com 'Vic vai te dar um socao' e 'P&D >> Comunidade', vamos ver quantos desses dados existem:"
      ]
    },
    {
      "cell_type": "code",
      "metadata": {
        "colab": {
          "base_uri": "https://localhost:8080/"
        },
        "id": "Qsyf8KxVof6P",
        "outputId": "2fb80177-a106-4df7-a3ae-ea9407b7cd7b"
      },
      "source": [
        "print(\"Número de 'Vic vai te dar um socao': \", len(jogos[jogos['Sex'] == 'Vic vai te dar um socao']))\n",
        "print(\"Número de 'P&D >> Comunidade': \", len(jogos[jogos['Sex'] == 'P&D >> Comunidade']))"
      ],
      "execution_count": 8,
      "outputs": [
        {
          "output_type": "stream",
          "name": "stdout",
          "text": [
            "Número de 'Vic vai te dar um socao':  312\n",
            "Número de 'P&D >> Comunidade':  333\n"
          ]
        }
      ]
    },
    {
      "cell_type": "markdown",
      "metadata": {
        "id": "kotOhr_xpf3N"
      },
      "source": [
        "Temos duas opções: deletar estes dados, ou substituí-los pela moda. Como a quantidade de dados é pequena em comparação com a total, vamos neste caso optar pela exclusão."
      ]
    },
    {
      "cell_type": "code",
      "metadata": {
        "id": "VQQ5HS3Bp4IH",
        "colab": {
          "base_uri": "https://localhost:8080/"
        },
        "outputId": "e9a110eb-b0dd-4ce2-b4fa-18d37ce70610"
      },
      "source": [
        "Vic = jogos[jogos[\"Sex\"] == 'Vic vai te dar um socao'].index\n",
        "jogos.drop(Vic, inplace=True)\n",
        "\n",
        "comunas = jogos[jogos[\"Sex\"] == 'P&D >> Comunidade'].index\n",
        "jogos.drop(comunas, inplace=True)\n",
        "\n",
        "# Olhando novamente os dados.\n",
        "print(jogos[\"Sex\"].unique())"
      ],
      "execution_count": 9,
      "outputs": [
        {
          "output_type": "stream",
          "name": "stdout",
          "text": [
            "['M' 'F']\n"
          ]
        }
      ]
    },
    {
      "cell_type": "markdown",
      "metadata": {
        "id": "2Zxb4WemreWY"
      },
      "source": [
        "### Coluna \"Season\":"
      ]
    },
    {
      "cell_type": "code",
      "metadata": {
        "colab": {
          "base_uri": "https://localhost:8080/"
        },
        "id": "QUAL-VWkmY-l",
        "outputId": "1422db92-6e62-4b12-84d4-436a2d0bbabf"
      },
      "source": [
        "print(jogos[\"Season\"].unique())"
      ],
      "execution_count": 10,
      "outputs": [
        {
          "output_type": "stream",
          "name": "stdout",
          "text": [
            "['Summer' 'Winter' '#ForaBolsonaro' 'Ele não' 'Ele nunca']\n"
          ]
        }
      ]
    },
    {
      "cell_type": "markdown",
      "metadata": {
        "id": "ynL-rxgwrn3n"
      },
      "source": [
        "Como essa categoria deveria se tratar apenas de \"Summer\" e \"Winter\", vamos ver a quantidade dos dados diferentes, para decidir o que faremos:\n",
        "\n"
      ]
    },
    {
      "cell_type": "code",
      "metadata": {
        "colab": {
          "base_uri": "https://localhost:8080/"
        },
        "id": "HH_-rB2fr-PN",
        "outputId": "8f2b9d1f-d8d9-4337-a1f2-e8303d1af633"
      },
      "source": [
        "print(\"Número de '#ForaBolsonaro': \", len(jogos[jogos['Season'] == '#ForaBolsonaro']))\n",
        "print(\"Número de 'Ele não': \", len(jogos[jogos['Season'] == 'Ele não']))\n",
        "print(\"Número de 'Ele nunca': \", len(jogos[jogos['Season'] == 'Ele nunca']))"
      ],
      "execution_count": 11,
      "outputs": [
        {
          "output_type": "stream",
          "name": "stdout",
          "text": [
            "Número de '#ForaBolsonaro':  70\n",
            "Número de 'Ele não':  49\n",
            "Número de 'Ele nunca':  28\n"
          ]
        }
      ]
    },
    {
      "cell_type": "markdown",
      "metadata": {
        "id": "C7rxq2AFu1kX"
      },
      "source": [
        "Como temos quantidades pequenas de dados, vamos simplesmente deletá-las."
      ]
    },
    {
      "cell_type": "code",
      "metadata": {
        "colab": {
          "base_uri": "https://localhost:8080/"
        },
        "id": "XrW2K79Mu9sf",
        "outputId": "588289c5-bfa7-4183-fa65-874933ee69d0"
      },
      "source": [
        "fora = jogos[jogos[\"Season\"] == '#ForaBolsonaro'].index\n",
        "jogos.drop(fora, inplace=True)\n",
        "\n",
        "nao = jogos[jogos[\"Season\"] == 'Ele não'].index\n",
        "jogos.drop(nao, inplace=True)\n",
        "\n",
        "nunca = jogos[jogos[\"Season\"] == 'Ele nunca'].index\n",
        "jogos.drop(nunca, inplace=True)\n",
        "\n",
        "# Olhando novamente os dados.\n",
        "print(jogos[\"Season\"].unique())"
      ],
      "execution_count": 12,
      "outputs": [
        {
          "output_type": "stream",
          "name": "stdout",
          "text": [
            "['Summer' 'Winter']\n"
          ]
        }
      ]
    },
    {
      "cell_type": "markdown",
      "metadata": {
        "id": "UaLKESVLvbaa"
      },
      "source": [
        "###Coluna \"Weight\":"
      ]
    },
    {
      "cell_type": "markdown",
      "metadata": {
        "id": "ZVkyvOjOhy_Z"
      },
      "source": [
        "Iremos transformar essa coluna em um float."
      ]
    },
    {
      "cell_type": "code",
      "metadata": {
        "colab": {
          "base_uri": "https://localhost:8080/"
        },
        "id": "4faLRILXvjGF",
        "outputId": "189c32d2-d5bb-4e0b-b1ab-e4f70b349d93"
      },
      "source": [
        "jogos[\"Weight\"].unique()"
      ],
      "execution_count": 13,
      "outputs": [
        {
          "output_type": "execute_result",
          "data": {
            "text/plain": [
              "array([nan, '75.0', '85.0', '64.0', '90.0', '87.0', '49.0', 'hsuahusahu',\n",
              "       '76.0', '83.0', '86.0', '82.0', '55.0', '67.0', '60.0', '79.0',\n",
              "       '96.0', '97.0', '70.0', '88.0', '56.0', '80.0', '59.0', '91.0',\n",
              "       '72.0', '62.0', '63.0', '130.0', '104.0', '73.0', '84.0', '125.0',\n",
              "       '50.0', '102.0', '48.0', '58.0', '78.0', '40.0', '68.0', '92.0',\n",
              "       '61.0', '95.0', '89.0', '65.0', '93.0', '77.0', '46.0', '81.0',\n",
              "       '52.0', '54.0', '57.0', '69.0', '99.0', '69.5', '51.0', '120.0',\n",
              "       '74.0', '110.0', '100.0', '66.0', '47.0', '116.0', '107.0', '53.0',\n",
              "       '105.0', '109.0', '156.0', '71.0', '98.0', '160.0', '106.0',\n",
              "       '146.0', '44.0', '138.0', '141.0', '94.0', '118.0', '101.0',\n",
              "       '39.0', '32.0', '112.0', '115.0', '74.5', '121.0', '135.0',\n",
              "       '111.0', '43.0', '36.0', '67.5', '45.0', '114.0', '132.0', '65.5',\n",
              "       '42.0', '59.5', '127.5', '108.0', '35.0', '117.0', '103.0', '58.5',\n",
              "       '214.0', '113.0', '146.5', '116.5', '140.0', '38.0', '101.5',\n",
              "       '154.0', '57.5', '136.0', '127.0', '102.5', '170.0', '126.0',\n",
              "       '77.3333333333333', '122.0', '55.5', '41.0', '123.0', '34.0',\n",
              "       '150.0', '109.5', '37.0', '70.5', '71.5', '30.0', '76.5', '64.5',\n",
              "       '33.0', '129.0', '137.0', '128.0', '73.5', '54.5', '56.5', '63.5',\n",
              "       '134.0', '147.0', '100.5', '78.5', '82.5', '61.5', '83.5', '77.5',\n",
              "       '53.5', '87.5', '124.0', '72.5', '88.5', '81.5', '89.5', '167.0',\n",
              "       '91.5', '79.5', '68.5', '66.5', '85.5', '108.5', '142.0', '86.5',\n",
              "       '106.5', '60.5', '135.5', '31.0', '148.0', '93.5', '97.5', '103.5',\n",
              "       '175.0', '90.5', '131.0', '145.0', '119.0', '155.0', '139.0',\n",
              "       '52.5', '104.5', '143.0', '105.5', '75.5', '84.5', '92.5', '182.0',\n",
              "       '62.5', '130.5', '28.0', '163.0'], dtype=object)"
            ]
          },
          "metadata": {},
          "execution_count": 13
        }
      ]
    },
    {
      "cell_type": "markdown",
      "metadata": {
        "id": "2eJgnPDZ2moy"
      },
      "source": [
        "Podemos perceber que o único dado que não se trata de um float é o 'hsuahusahu', a seguir veremos quantos desse dado existem e lidaremos com o mesmo."
      ]
    },
    {
      "cell_type": "code",
      "metadata": {
        "colab": {
          "base_uri": "https://localhost:8080/"
        },
        "id": "yhSwZUMHzsTm",
        "outputId": "7eedca3a-f505-49c1-a48c-de82e250e643"
      },
      "source": [
        "len(jogos[jogos[\"Weight\"] == 'hsuahusahu'])"
      ],
      "execution_count": 14,
      "outputs": [
        {
          "output_type": "execute_result",
          "data": {
            "text/plain": [
              "460"
            ]
          },
          "metadata": {},
          "execution_count": 14
        }
      ]
    },
    {
      "cell_type": "code",
      "metadata": {
        "id": "IQfQUtvI0UE9"
      },
      "source": [
        "# Substituindo 'hsuahusahu' pela moda.\n",
        "jogos[\"Weight\"].replace('hsuahusahu', jogos['Weight'].mode()[0], inplace=True)"
      ],
      "execution_count": 15,
      "outputs": []
    },
    {
      "cell_type": "code",
      "metadata": {
        "id": "DKsCwJ2c0c4p"
      },
      "source": [
        "# Transformando em um float.\n",
        "jogos[\"Weight\"] = jogos[\"Weight\"].astype(float)"
      ],
      "execution_count": 16,
      "outputs": []
    },
    {
      "cell_type": "markdown",
      "metadata": {
        "id": "ghzzag4K3oz_"
      },
      "source": [
        "### Coluna \"Medal\":"
      ]
    },
    {
      "cell_type": "code",
      "metadata": {
        "colab": {
          "base_uri": "https://localhost:8080/"
        },
        "id": "rQ9NNKih3zY8",
        "outputId": "a8224534-dde6-4901-ae15-8c9e294bc46e"
      },
      "source": [
        "jogos[\"Medal\"].unique()"
      ],
      "execution_count": 17,
      "outputs": [
        {
          "output_type": "execute_result",
          "data": {
            "text/plain": [
              "array(['Gold', nan, 'Bronze', 'Silver', 'Nelson'], dtype=object)"
            ]
          },
          "metadata": {},
          "execution_count": 17
        }
      ]
    },
    {
      "cell_type": "markdown",
      "metadata": {
        "id": "qXNMinzniMek"
      },
      "source": [
        "Podemos perceber que \"Nelson\" não faz parte dessa categoria. "
      ]
    },
    {
      "cell_type": "code",
      "metadata": {
        "colab": {
          "base_uri": "https://localhost:8080/"
        },
        "id": "HkI4oBIrkMqL",
        "outputId": "1d5b181a-090a-4224-f59d-9378500577be"
      },
      "source": [
        "len(jogos[jogos[\"Medal\"] == \"Nelson\"])"
      ],
      "execution_count": 18,
      "outputs": [
        {
          "output_type": "execute_result",
          "data": {
            "text/plain": [
              "161"
            ]
          },
          "metadata": {},
          "execution_count": 18
        }
      ]
    },
    {
      "cell_type": "markdown",
      "metadata": {
        "id": "oV1CcStsiWgf"
      },
      "source": [
        "Assim como os outros dados que tratamos, vamos excluir o \"Nelson\", já que sua quantidade não é relevante"
      ]
    },
    {
      "cell_type": "code",
      "metadata": {
        "colab": {
          "base_uri": "https://localhost:8080/"
        },
        "id": "fTyyzti6keVi",
        "outputId": "dfa3a06b-c770-4618-f676-658bc8036c4b"
      },
      "source": [
        "fora = jogos[jogos[\"Medal\"] == 'Nelson'].index\n",
        "jogos.drop(fora, inplace=True)\n",
        "\n",
        "# Olhando novamente os dados.\n",
        "print(jogos[\"Medal\"].unique())"
      ],
      "execution_count": 19,
      "outputs": [
        {
          "output_type": "stream",
          "name": "stdout",
          "text": [
            "['Gold' nan 'Bronze' 'Silver']\n"
          ]
        }
      ]
    },
    {
      "cell_type": "markdown",
      "metadata": {
        "id": "aYw254CVjGE_"
      },
      "source": [
        "###Arrumando a coluna \"City\""
      ]
    },
    {
      "cell_type": "code",
      "metadata": {
        "colab": {
          "base_uri": "https://localhost:8080/"
        },
        "id": "3mM52voWk5wt",
        "outputId": "89fc8a2a-aeb0-45cf-a3e2-9fd1636494eb"
      },
      "source": [
        "print(jogos[\"City\"].unique())"
      ],
      "execution_count": 20,
      "outputs": [
        {
          "output_type": "stream",
          "name": "stdout",
          "text": [
            "['Paris' 'Albertville' 'Antwerpen' 'Sochi' 'London' 'Helsinki'\n",
            " 'Lillehammer' 'Salt Lake City' 'Torino' 'Beijing' 'Seoul' 'Atlanta'\n",
            " 'Oslo' 'Squaw Valley' 'Stockholm' 'Melbourne' 'Rio de Janeiro' 'Sydney'\n",
            " 'Athina' 'Moskva' 'Los Angeles' 'Barcelona' 'Berlin' 'Tokyo' 'Roma'\n",
            " 'Munich' 'Chamonix' 'St. Louis' 'Sankt Moritz' 'Calgary' 'Grenoble'\n",
            " 'Montreal' 'Nagano' 'Vancouver' 'Amsterdam' 'Mexico City' 'Sapporo'\n",
            " 'Lake Placid' 'Sarajevo' 'Garmisch-Partenkirchen' \"Cortina d'Ampezzo\"\n",
            " 'Innsbruck' '######']\n"
          ]
        }
      ]
    },
    {
      "cell_type": "markdown",
      "metadata": {
        "id": "vURAIp48imWu"
      },
      "source": [
        "Para facilitar a leitura, iremos transformar a cidade categorizada como \"######\" para um dado do tipo NaN."
      ]
    },
    {
      "cell_type": "code",
      "metadata": {
        "colab": {
          "base_uri": "https://localhost:8080/"
        },
        "id": "UuoJyovCjLrx",
        "outputId": "cbe63831-cdcf-4e07-c817-14bc23bbb628"
      },
      "source": [
        "jogos[\"City\"].replace(\"######\", np.nan, inplace = True)\n",
        "\n",
        "# Olhando novamente os dados.\n",
        "print(jogos[\"City\"].unique())"
      ],
      "execution_count": 21,
      "outputs": [
        {
          "output_type": "stream",
          "name": "stdout",
          "text": [
            "['Paris' 'Albertville' 'Antwerpen' 'Sochi' 'London' 'Helsinki'\n",
            " 'Lillehammer' 'Salt Lake City' 'Torino' 'Beijing' 'Seoul' 'Atlanta'\n",
            " 'Oslo' 'Squaw Valley' 'Stockholm' 'Melbourne' 'Rio de Janeiro' 'Sydney'\n",
            " 'Athina' 'Moskva' 'Los Angeles' 'Barcelona' 'Berlin' 'Tokyo' 'Roma'\n",
            " 'Munich' 'Chamonix' 'St. Louis' 'Sankt Moritz' 'Calgary' 'Grenoble'\n",
            " 'Montreal' 'Nagano' 'Vancouver' 'Amsterdam' 'Mexico City' 'Sapporo'\n",
            " 'Lake Placid' 'Sarajevo' 'Garmisch-Partenkirchen' \"Cortina d'Ampezzo\"\n",
            " 'Innsbruck' nan]\n"
          ]
        }
      ]
    },
    {
      "cell_type": "markdown",
      "metadata": {
        "id": "KQwRrtDw887Q"
      },
      "source": [
        "##Dados Numéricos"
      ]
    },
    {
      "cell_type": "markdown",
      "metadata": {
        "id": "x4-WYAasi-Y6"
      },
      "source": [
        "O método describe() nos dá uma visão geral, e olhando para os valores de mínimo e máximo de cada dado, já podemos tirar algumas conclusões."
      ]
    },
    {
      "cell_type": "code",
      "metadata": {
        "colab": {
          "base_uri": "https://localhost:8080/",
          "height": 300
        },
        "id": "mFZg1aOJaYBV",
        "outputId": "7985df25-f178-41f3-d868-0cd23f385c13"
      },
      "source": [
        "jogos.describe()"
      ],
      "execution_count": 22,
      "outputs": [
        {
          "output_type": "execute_result",
          "data": {
            "text/html": [
              "<div>\n",
              "<style scoped>\n",
              "    .dataframe tbody tr th:only-of-type {\n",
              "        vertical-align: middle;\n",
              "    }\n",
              "\n",
              "    .dataframe tbody tr th {\n",
              "        vertical-align: top;\n",
              "    }\n",
              "\n",
              "    .dataframe thead th {\n",
              "        text-align: right;\n",
              "    }\n",
              "</style>\n",
              "<table border=\"1\" class=\"dataframe\">\n",
              "  <thead>\n",
              "    <tr style=\"text-align: right;\">\n",
              "      <th></th>\n",
              "      <th>Age</th>\n",
              "      <th>Height</th>\n",
              "      <th>Weight</th>\n",
              "      <th>Year</th>\n",
              "    </tr>\n",
              "  </thead>\n",
              "  <tbody>\n",
              "    <tr>\n",
              "      <th>count</th>\n",
              "      <td>42715.000000</td>\n",
              "      <td>3.389400e+04</td>\n",
              "      <td>33299.000000</td>\n",
              "      <td>43681.000000</td>\n",
              "    </tr>\n",
              "    <tr>\n",
              "      <th>mean</th>\n",
              "      <td>25.872457</td>\n",
              "      <td>9.565149e+02</td>\n",
              "      <td>73.700256</td>\n",
              "      <td>1971.864243</td>\n",
              "    </tr>\n",
              "    <tr>\n",
              "      <th>std</th>\n",
              "      <td>5.969756</td>\n",
              "      <td>3.379120e+04</td>\n",
              "      <td>14.905732</td>\n",
              "      <td>95.099006</td>\n",
              "    </tr>\n",
              "    <tr>\n",
              "      <th>min</th>\n",
              "      <td>10.000000</td>\n",
              "      <td>1.320000e+02</td>\n",
              "      <td>28.000000</td>\n",
              "      <td>-2992.000000</td>\n",
              "    </tr>\n",
              "    <tr>\n",
              "      <th>25%</th>\n",
              "      <td>22.000000</td>\n",
              "      <td>1.700000e+02</td>\n",
              "      <td>63.000000</td>\n",
              "      <td>1952.000000</td>\n",
              "    </tr>\n",
              "    <tr>\n",
              "      <th>50%</th>\n",
              "      <td>25.000000</td>\n",
              "      <td>1.780000e+02</td>\n",
              "      <td>72.000000</td>\n",
              "      <td>1984.000000</td>\n",
              "    </tr>\n",
              "    <tr>\n",
              "      <th>75%</th>\n",
              "      <td>29.000000</td>\n",
              "      <td>1.850000e+02</td>\n",
              "      <td>82.000000</td>\n",
              "      <td>2002.000000</td>\n",
              "    </tr>\n",
              "    <tr>\n",
              "      <th>max</th>\n",
              "      <td>73.000000</td>\n",
              "      <td>1.976779e+06</td>\n",
              "      <td>214.000000</td>\n",
              "      <td>2016.000000</td>\n",
              "    </tr>\n",
              "  </tbody>\n",
              "</table>\n",
              "</div>"
            ],
            "text/plain": [
              "                Age        Height        Weight          Year\n",
              "count  42715.000000  3.389400e+04  33299.000000  43681.000000\n",
              "mean      25.872457  9.565149e+02     73.700256   1971.864243\n",
              "std        5.969756  3.379120e+04     14.905732     95.099006\n",
              "min       10.000000  1.320000e+02     28.000000  -2992.000000\n",
              "25%       22.000000  1.700000e+02     63.000000   1952.000000\n",
              "50%       25.000000  1.780000e+02     72.000000   1984.000000\n",
              "75%       29.000000  1.850000e+02     82.000000   2002.000000\n",
              "max       73.000000  1.976779e+06    214.000000   2016.000000"
            ]
          },
          "metadata": {},
          "execution_count": 22
        }
      ]
    },
    {
      "cell_type": "markdown",
      "metadata": {
        "id": "7GAzO8qhjVO1"
      },
      "source": [
        "###Coluna \"Year\":"
      ]
    },
    {
      "cell_type": "markdown",
      "metadata": {
        "id": "VdFHhACWjZTN"
      },
      "source": [
        "Plotando um gráfico com os anos que apareceram no dataset e suas respectivas quantidades:"
      ]
    },
    {
      "cell_type": "code",
      "metadata": {
        "colab": {
          "base_uri": "https://localhost:8080/",
          "height": 424
        },
        "id": "ZFXBDPEybr2_",
        "outputId": "a83b1d4f-5c63-450c-a062-3b54c3e3a674"
      },
      "source": [
        "plt.figure(figsize=(30,10))\n",
        "sns.countplot(x = 'Year', data = jogos, palette = \"RdYlBu\") \n",
        "plt.xlabel(\"Anos\")\n",
        "plt.ylabel(\"Contagem\")\n",
        "plt.title(\"Anos das Olimpíadas\", fontsize=18)\n",
        "plt.show()"
      ],
      "execution_count": 23,
      "outputs": [
        {
          "output_type": "display_data",
          "data": {
            "image/png": "[encoded data removed]",
            "text/plain": [
              "<Figure size 2160x720 with 1 Axes>"
            ]
          },
          "metadata": {
            "needs_background": "light"
          }
        }
      ]
    },
    {
      "cell_type": "markdown",
      "metadata": {
        "id": "tG6voZgSjoWr"
      },
      "source": [
        "É notável que os anos inferiores a 1896 estão incorretos, até por que este foi o ano em que surgiram os jogos olímpicos. Vamos retirá-los"
      ]
    },
    {
      "cell_type": "code",
      "metadata": {
        "colab": {
          "base_uri": "https://localhost:8080/",
          "height": 354
        },
        "id": "ptduUHUVclyZ",
        "outputId": "f90cd620-0fe7-41f3-d468-4a9a6e0c4443"
      },
      "source": [
        "jogos = jogos[jogos['Year'] >= 1896]\n",
        "\n",
        "#vamos plotar novamente o gráfico e ver o que mudou\n",
        "plt.figure(figsize=(18,5))\n",
        "sns.countplot(x = 'Year', data = jogos, palette = \"RdYlBu\") \n",
        "plt.xlabel(\"Anos\")\n",
        "plt.ylabel(\"Contagem\")\n",
        "plt.title(\"Anos das Olimpíadas\", fontsize=18)\n",
        "plt.show()"
      ],
      "execution_count": 24,
      "outputs": [
        {
          "output_type": "display_data",
          "data": {
            "image/png": "[encoded data removed]",
            "text/plain": [
              "<Figure size 1296x360 with 1 Axes>"
            ]
          },
          "metadata": {
            "needs_background": "light"
          }
        }
      ]
    },
    {
      "cell_type": "markdown",
      "metadata": {
        "id": "uakEdP4-drMf"
      },
      "source": [
        "Podemos perceber uma discrepância entre os anos inferiores a 1994 com seus superiores. Isso ocorre, pois a partir de 1994, os jogos de Verão e Inverno foram colocados em alternância aos anos pares, o que não acontecia antes.\n",
        "\n",
        "\n",
        "\n"
      ]
    },
    {
      "cell_type": "markdown",
      "metadata": {
        "id": "BIG3kKt9klpf"
      },
      "source": [
        "###Coluna \"Height\":"
      ]
    },
    {
      "cell_type": "markdown",
      "metadata": {
        "id": "x89JVjcZm2Yd"
      },
      "source": [
        "Para encontrar os outliers dessa categoria, um gráfico comum seria o boxplot. Contudo, podemos ver abaixo o que ocorre nesse caso, já que os outliers possuem valores extremamente discrepantes, o gáfico fica ilegível"
      ]
    },
    {
      "cell_type": "code",
      "metadata": {
        "colab": {
          "base_uri": "https://localhost:8080/",
          "height": 414
        },
        "id": "ehUL0PCClSj7",
        "outputId": "55a1c3f4-23f3-4390-8fea-0a28d8133ea3"
      },
      "source": [
        "plt.figure(figsize=(30,8))\n",
        "sns.boxplot( jogos[\"Height\"])\n",
        "plt.title(\"Testando o Boxplot\", fontsize=18)\n",
        "plt.xlabel(\"Altura\")\n",
        "plt.show()"
      ],
      "execution_count": 25,
      "outputs": [
        {
          "output_type": "stream",
          "name": "stderr",
          "text": [
            "/usr/local/lib/python3.7/dist-packages/seaborn/_decorators.py:43: FutureWarning: Pass the following variable as a keyword arg: x. From version 0.12, the only valid positional argument will be `data`, and passing other arguments without an explicit keyword will result in an error or misinterpretation.\n",
            "  FutureWarning\n"
          ]
        },
        {
          "output_type": "display_data",
          "data": {
            "image/png": "[encoded data removed]",
            "text/plain": [
              "<Figure size 2160x576 with 1 Axes>"
            ]
          },
          "metadata": {
            "needs_background": "light"
          }
        }
      ]
    },
    {
      "cell_type": "markdown",
      "metadata": {
        "id": "D4WYrEDGks21"
      },
      "source": [
        "Assim, vamos visualizar esse dado divindindo-o em duas tabelas, de modo que poderemos ver o que ocorre com alturas muito grandes e muito pequenas."
      ]
    },
    {
      "cell_type": "markdown",
      "metadata": {
        "id": "nkJ99tA8lDJh"
      },
      "source": [
        "Analisando primeiro alturas acima de 210cm:"
      ]
    },
    {
      "cell_type": "code",
      "metadata": {
        "colab": {
          "base_uri": "https://localhost:8080/",
          "height": 353
        },
        "id": "UCYSMozZfHec",
        "outputId": "40cbe166-5cf6-4f5d-e23b-ad1f37ff4078"
      },
      "source": [
        "plt.figure(figsize=(30,8))\n",
        "sns.countplot(x = \"Height\", data = jogos[jogos[\"Height\"] > 210], palette = \"RdYlBu\")\n",
        "plt.xlabel(\"Altura\")\n",
        "plt.ylabel(\"Contagem\")\n",
        "plt.title(\"Alturas maiores que 2,10m\", fontsize=18)\n",
        "plt.show()"
      ],
      "execution_count": 26,
      "outputs": [
        {
          "output_type": "display_data",
          "data": {
            "image/png": "[encoded data removed]",
            "text/plain": [
              "<Figure size 2160x576 with 1 Axes>"
            ]
          },
          "metadata": {
            "needs_background": "light"
          }
        }
      ]
    },
    {
      "cell_type": "markdown",
      "metadata": {
        "id": "JISiDLWlnYQk"
      },
      "source": [
        "Há um salto muito grande de 223cm (que é uma altura possível) para 233157, de modo que todos os valores acima disso devem ser retirados."
      ]
    },
    {
      "cell_type": "markdown",
      "metadata": {
        "id": "YqyUnMWunr6U"
      },
      "source": [
        "Para alturas menores que 160cm:"
      ]
    },
    {
      "cell_type": "code",
      "metadata": {
        "colab": {
          "base_uri": "https://localhost:8080/",
          "height": 352
        },
        "id": "J4HGhxMKh7pe",
        "outputId": "33a5f961-4d0e-4a25-8467-1076943f882f"
      },
      "source": [
        "plt.figure(figsize=(30,8))\n",
        "sns.countplot(x = \"Height\", data = jogos[jogos[\"Height\"] < 160], palette = \"RdYlBu\")\n",
        "plt.xlabel(\"Altura\")\n",
        "plt.ylabel(\"Contagem\")\n",
        "plt.title(\"Alturas menores que 1,60m\", fontsize=18)\n",
        "plt.show()"
      ],
      "execution_count": 27,
      "outputs": [
        {
          "output_type": "display_data",
          "data": {
            "image/png": "[encoded data removed]",
            "text/plain": [
              "<Figure size 2160x576 with 1 Axes>"
            ]
          },
          "metadata": {
            "needs_background": "light"
          }
        }
      ]
    },
    {
      "cell_type": "markdown",
      "metadata": {
        "id": "XCUWQQcpnxlH"
      },
      "source": [
        "Apesar de haverem algumas alturas muito pequenas, não vamos retirá-las, já que seus valores são possíveis e existem poucos dados."
      ]
    },
    {
      "cell_type": "markdown",
      "metadata": {
        "id": "5qWEI7nGoFyC"
      },
      "source": [
        "Arrumando então os dados de altura:"
      ]
    },
    {
      "cell_type": "code",
      "metadata": {
        "colab": {
          "base_uri": "https://localhost:8080/",
          "height": 405
        },
        "id": "4YskDg96fZa3",
        "outputId": "45edd92f-cfba-47e5-bb60-765eac8f2936"
      },
      "source": [
        "jogos = jogos[jogos['Height'] <= 223]\n",
        "\n",
        "#vamos plotar novamente o gráfico e ver o que mudou\n",
        "plt.figure(figsize=(18,5))\n",
        "sns.distplot(x=jogos['Height'])\n",
        "plt.xlabel(\"Alturas\")\n",
        "plt.ylabel(\"Densidade\")\n",
        "plt.title('Alturas dos Atletas')\n",
        "plt.show()"
      ],
      "execution_count": 28,
      "outputs": [
        {
          "output_type": "stream",
          "name": "stderr",
          "text": [
            "/usr/local/lib/python3.7/dist-packages/seaborn/distributions.py:2619: FutureWarning: `distplot` is a deprecated function and will be removed in a future version. Please adapt your code to use either `displot` (a figure-level function with similar flexibility) or `histplot` (an axes-level function for histograms).\n",
            "  warnings.warn(msg, FutureWarning)\n"
          ]
        },
        {
          "output_type": "display_data",
          "data": {
            "image/png": "[encoded data removed]",
            "text/plain": [
              "<Figure size 1296x360 with 1 Axes>"
            ]
          },
          "metadata": {
            "needs_background": "light"
          }
        }
      ]
    },
    {
      "cell_type": "markdown",
      "metadata": {
        "id": "6CdelU05Yh_F"
      },
      "source": [
        "#Análise de Dados\n"
      ]
    },
    {
      "cell_type": "markdown",
      "metadata": {
        "id": "Hxov8RAilgNk"
      },
      "source": [
        "##Participação mulheres vs homens"
      ]
    },
    {
      "cell_type": "code",
      "metadata": {
        "colab": {
          "base_uri": "https://localhost:8080/",
          "height": 371
        },
        "id": "amtCzH4JloOe",
        "outputId": "014a2ed3-d6a8-430e-f74a-4a05817488a8"
      },
      "source": [
        "plt.figure(figsize=(10,5))\n",
        "sns.countplot(x = 'Sex', data = jogos, palette={\"M\": \"#518cc4\", \"F\": \"#f280b2\"}) \n",
        "plt.xlabel(\"Sexo\")\n",
        "plt.ylabel(\"Contagem\")\n",
        "plt.title(\"Sexos nas Olimpíadas\", fontsize=18)"
      ],
      "execution_count": 29,
      "outputs": [
        {
          "output_type": "execute_result",
          "data": {
            "text/plain": [
              "Text(0.5, 1.0, 'Sexos nas Olimpíadas')"
            ]
          },
          "metadata": {},
          "execution_count": 29
        },
        {
          "output_type": "display_data",
          "data": {
            "image/png": "[encoded data removed]",
            "text/plain": [
              "<Figure size 720x360 with 1 Axes>"
            ]
          },
          "metadata": {
            "needs_background": "light"
          }
        }
      ]
    },
    {
      "cell_type": "markdown",
      "metadata": {
        "id": "ris55IxWoRF0"
      },
      "source": [
        "É possível percebermos claramente a maior quantidade de homens nos jogos olímpicos. Para termos uma melhor visualização, vamos ver o que ocorreu ao longo dos anos:"
      ]
    },
    {
      "cell_type": "code",
      "metadata": {
        "colab": {
          "base_uri": "https://localhost:8080/",
          "height": 354
        },
        "id": "zi3YvCsbYo2c",
        "outputId": "93df0c03-9031-4891-e162-86392e1983f7"
      },
      "source": [
        "plt.figure(figsize=(18,5))\n",
        "sns.countplot(x = 'Year', hue=\"Sex\", data = jogos, palette={\"M\": \"#518cc4\", \"F\": \"#f280b2\"}) \n",
        "plt.xlabel(\"Idade\")\n",
        "plt.ylabel(\"Contagem\")\n",
        "plt.title(\"Participação de cada sexo ao longo dos anos\", fontsize=18)\n",
        "plt.show()"
      ],
      "execution_count": 30,
      "outputs": [
        {
          "output_type": "display_data",
          "data": {
            "image/png": "[encoded data removed]",
            "text/plain": [
              "<Figure size 1296x360 with 1 Axes>"
            ]
          },
          "metadata": {
            "needs_background": "light"
          }
        }
      ]
    },
    {
      "cell_type": "markdown",
      "metadata": {
        "id": "0_wR9kL3ojKR"
      },
      "source": [
        "Apesar de o número de homens ser maior que o de mulheres, a diferença entre os dois sexos vem ficando cada vez menor. Contudo, não podemos tirar nenhuma conclusão, já que não sabemos o motivo dessa diferença."
      ]
    },
    {
      "cell_type": "markdown",
      "metadata": {
        "id": "aqDxTbbqpLVX"
      },
      "source": [
        "##Top 5 jogos femininos e masculinos:"
      ]
    },
    {
      "cell_type": "code",
      "metadata": {
        "colab": {
          "base_uri": "https://localhost:8080/",
          "height": 370
        },
        "id": "gFXeHnuSfMdP",
        "outputId": "34c60355-d529-4bfe-e20b-04f75c6896c9"
      },
      "source": [
        "mulheres = jogos[jogos[\"Sex\"] == \"F\"]\n",
        "homens = jogos[jogos[\"Sex\"] == \"M\"]\n",
        "\n",
        "fig, ax = plt.subplots(1, 2, figsize=(10,5))\n",
        "fig.suptitle('Top 5 Jogos')\n",
        "plt.subplots_adjust(wspace=1)\n",
        "\n",
        "ax[0].set_title('Femininos')\n",
        "sns.countplot(ax = ax[0], y = \"Sport\", data = mulheres, palette = \"PuRd\",\n",
        "              order=mulheres[\"Sport\"].value_counts().index[:5])\n",
        "\n",
        "ax[1].set_title('Masculinos')\n",
        "sns.countplot(ax = ax[1], y = \"Sport\", data = homens, palette = \"Blues\",\n",
        "              order=homens[\"Sport\"].value_counts().index[:5])\n",
        "\n",
        "\n",
        "plt.show()"
      ],
      "execution_count": 31,
      "outputs": [
        {
          "output_type": "display_data",
          "data": {
            "image/png": "[encoded data removed]",
            "text/plain": [
              "<Figure size 720x360 with 2 Axes>"
            ]
          },
          "metadata": {
            "needs_background": "light"
          }
        }
      ]
    },
    {
      "cell_type": "markdown",
      "metadata": {
        "id": "fQ2Ec9RlpoLV"
      },
      "source": [
        "\"Athletics\" é o jogo que mais aparece nas duas categorias. Além disso, há uma participação grande das mulheres em jogos como ginástica e volley, enquanto os homens possuem presença em hockey no gelo e luta."
      ]
    },
    {
      "cell_type": "markdown",
      "metadata": {
        "id": "cO8nOeI_qNec"
      },
      "source": [
        "Temos abaixo uma visão mais geral dos jogos:"
      ]
    },
    {
      "cell_type": "code",
      "metadata": {
        "colab": {
          "base_uri": "https://localhost:8080/",
          "height": 625
        },
        "id": "uO9sFpwyx1GK",
        "outputId": "506f697a-64d3-4f21-c60e-d9c2920f9ce0"
      },
      "source": [
        "plt.figure(figsize = (8,10))\n",
        "sns.countplot(y = \"Sport\", hue = \"Sex\", data = jogos, palette={\"M\": \"#518cc4\", \"F\": \"#f280b2\"},order=jogos[\"Sport\"].value_counts().index)\n",
        "plt.ylim(20.5)\n",
        "plt.xlabel(\"Contagem\")\n",
        "plt.ylabel(\"Esporte\")\n",
        "plt.title(\"Participação nos esportes\", fontsize=18)\n",
        "plt.show()"
      ],
      "execution_count": 32,
      "outputs": [
        {
          "output_type": "display_data",
          "data": {
            "image/png": "[encoded data removed]",
            "text/plain": [
              "<Figure size 576x720 with 1 Axes>"
            ]
          },
          "metadata": {
            "needs_background": "light"
          }
        }
      ]
    },
    {
      "cell_type": "markdown",
      "metadata": {
        "id": "8NmjO36dqW_Q"
      },
      "source": [
        "###Distribuição de idades nos top 5 jogos:"
      ]
    },
    {
      "cell_type": "markdown",
      "metadata": {
        "id": "jTbXKxDf8voR"
      },
      "source": [
        "Separando apenas os dados referentes aos 5 top jogos de cada sexo, temos:"
      ]
    },
    {
      "cell_type": "code",
      "metadata": {
        "id": "e4_JYg0zn7JA"
      },
      "source": [
        "top5_mulheres = mulheres[\"Sport\"].value_counts(sort=True).index[:5]\n",
        "top5_mulheres = mulheres[mulheres[\"Sport\"].isin(top5_mulheres)]\n",
        "\n",
        "top5_homens = homens[\"Sport\"].value_counts(sort=True).index[:5]\n",
        "top5_homens = homens[homens[\"Sport\"].isin(top5_homens)]"
      ],
      "execution_count": 33,
      "outputs": []
    },
    {
      "cell_type": "code",
      "metadata": {
        "colab": {
          "base_uri": "https://localhost:8080/",
          "height": 443
        },
        "id": "aPXSVBdxg1oG",
        "outputId": "6af38c2d-5b43-48ab-9ee8-bff3aa6a35fd"
      },
      "source": [
        "\n",
        "plt.figure(figsize=(18,5))\n",
        "sns.distplot(top5_homens[\"Age\"], color = \"#518cc4\") \n",
        "sns.distplot(top5_mulheres[\"Age\"], color = \"#f280b2\")\n",
        "plt.xlabel(\"Idade\")\n",
        "plt.ylabel(\"Densidade\")\n",
        "plt.title(\"Idades dos top 5 jogos\", fontsize=18) \n",
        "plt.show()"
      ],
      "execution_count": 34,
      "outputs": [
        {
          "output_type": "stream",
          "name": "stderr",
          "text": [
            "/usr/local/lib/python3.7/dist-packages/seaborn/distributions.py:2619: FutureWarning: `distplot` is a deprecated function and will be removed in a future version. Please adapt your code to use either `displot` (a figure-level function with similar flexibility) or `histplot` (an axes-level function for histograms).\n",
            "  warnings.warn(msg, FutureWarning)\n",
            "/usr/local/lib/python3.7/dist-packages/seaborn/distributions.py:2619: FutureWarning: `distplot` is a deprecated function and will be removed in a future version. Please adapt your code to use either `displot` (a figure-level function with similar flexibility) or `histplot` (an axes-level function for histograms).\n",
            "  warnings.warn(msg, FutureWarning)\n"
          ]
        },
        {
          "output_type": "display_data",
          "data": {
            "image/png": "[encoded data removed]",
            "text/plain": [
              "<Figure size 1296x360 with 1 Axes>"
            ]
          },
          "metadata": {
            "needs_background": "light"
          }
        }
      ]
    },
    {
      "cell_type": "markdown",
      "metadata": {
        "id": "G7y2_sMIqcuy"
      },
      "source": [
        "O gráfico acima nos mostra que existem números maiores de mulheres mais novas participando das Olimpíadas do que homens. Isso pode ser explicado já que esportes como a ginástica, que possuem grande participação feminina, requerem uma faixa etária de competidoras muito mais novas do que outros esportes."
      ]
    },
    {
      "cell_type": "markdown",
      "metadata": {
        "id": "ZGJ01bR2rLrg"
      },
      "source": [
        "##Medalhas por país"
      ]
    },
    {
      "cell_type": "code",
      "metadata": {
        "colab": {
          "base_uri": "https://localhost:8080/",
          "height": 626
        },
        "id": "KHB8iRRiuJRm",
        "outputId": "e83485db-9f42-48d2-d8ad-bc9dcc83c72c"
      },
      "source": [
        "plt.figure(figsize = (8,10))\n",
        "sns.countplot(y = \"NOC\", hue = \"Medal\", data = jogos, hue_order = [\"Gold\", \"Silver\", \"Bronze\"], \n",
        "              palette = {\"Gold\": \"#ffcb78\", \"Silver\": \"#c4c4c4\", \"Bronze\": \"#de9273\"}, \n",
        "              order=jogos[\"NOC\"].value_counts().index)\n",
        "plt.ylim(15.5)\n",
        "plt.xlabel(\"Contagem\")\n",
        "plt.ylabel(\"País\")\n",
        "plt.title(\"Medalhas por País\", fontsize=18)\n",
        "plt.show()"
      ],
      "execution_count": 35,
      "outputs": [
        {
          "output_type": "display_data",
          "data": {
            "image/png": "[encoded data removed]",
            "text/plain": [
              "<Figure size 576x720 with 1 Axes>"
            ]
          },
          "metadata": {
            "needs_background": "light"
          }
        }
      ]
    },
    {
      "cell_type": "markdown",
      "metadata": {
        "id": "EzvMA1uX88Dv"
      },
      "source": [
        "Há um destaque muito grande para o número de medalhas acumuladas ao longo dos anos pelos Estados Unidos, principalmente as de ouro."
      ]
    },
    {
      "cell_type": "markdown",
      "metadata": {
        "id": "YSko1kiVsiIF"
      },
      "source": [
        "###Jogos de Verão vs Inverno"
      ]
    },
    {
      "cell_type": "markdown",
      "metadata": {
        "id": "x6o8hxCR9VbR"
      },
      "source": [
        "Por se tratarem de jogos completmante diferentes, é importante a análise dos jogos de Verão e Inverno separadamente"
      ]
    },
    {
      "cell_type": "code",
      "metadata": {
        "colab": {
          "base_uri": "https://localhost:8080/",
          "height": 370
        },
        "id": "BilhtAyIrx7c",
        "outputId": "838ccf9c-7452-4190-f6c1-4bcc076bb887"
      },
      "source": [
        "fig, ax = plt.subplots(1, 2, figsize=(10, 5))\n",
        "fig.suptitle('Medalhas por País')\n",
        "plt.subplots_adjust(wspace=1)\n",
        "\n",
        "ax[0].set_title('Jogos de Inverno')\n",
        "sns.countplot(ax = ax[0], y = \"NOC\", data = jogos[jogos[\"Season\"] == \"Winter\"], palette=\"Blues\", \n",
        "              order=jogos[jogos[\"Season\"] == \"Winter\"][\"NOC\"].value_counts().index[:8])\n",
        "\n",
        "ax[1].set_title('Jogos de Verão')\n",
        "sns.countplot(ax = ax[1], y = \"NOC\", data = jogos[jogos[\"Season\"] == \"Summer\"], palette=\"YlOrRd\",\n",
        "              order=jogos[jogos[\"Season\"] == \"Summer\"][\"NOC\"].value_counts().index[:8])\n",
        "\n",
        "\n",
        "plt.show()\n"
      ],
      "execution_count": 36,
      "outputs": [
        {
          "output_type": "display_data",
          "data": {
            "image/png": "[encoded data removed]",
            "text/plain": [
              "<Figure size 720x360 with 2 Axes>"
            ]
          },
          "metadata": {
            "needs_background": "light"
          }
        }
      ]
    },
    {
      "cell_type": "markdown",
      "metadata": {
        "id": "kzC9gFHv9hYY"
      },
      "source": [
        "O único país que permanece em destaque em ambas as Olimpíadas é os Estados Unidos. Já os outros são completamente diferentes, e podemos perceber que na de inverno, se destacam países com essa estação forte e culturas que valorizam os jogos nela praticados."
      ]
    },
    {
      "cell_type": "markdown",
      "metadata": {
        "id": "cLpL4DzMyWvk"
      },
      "source": [
        "##Competidores com mais medalhas"
      ]
    },
    {
      "cell_type": "code",
      "metadata": {
        "colab": {
          "base_uri": "https://localhost:8080/",
          "height": 677
        },
        "id": "UKP0J71JvdlI",
        "outputId": "1fc5026c-2347-468d-e9f5-f92588dc9819"
      },
      "source": [
        "fig, ax = plt.subplots(2, sharex=True, figsize=(5,10))\n",
        "fig.suptitle('Top Medalhistas')\n",
        "sns.set_style(\"whitegrid\")\n",
        "\n",
        "ax[0].set_title('Jogos de Inverno')\n",
        "sns.countplot(ax = ax[0], y = \"Name\", data = jogos[jogos[\"Season\"] == \"Winter\"], palette=\"Blues\", \n",
        "              order=jogos[jogos[\"Season\"] == \"Winter\"][\"Name\"].value_counts().index[:8])\n",
        "\n",
        "ax[1].set_title('Jogos de Verão')\n",
        "sns.countplot(ax = ax[1], y = \"Name\", data = jogos[jogos[\"Season\"] == \"Summer\"], palette=\"YlOrRd\", \n",
        "              order=jogos[jogos[\"Season\"] == \"Summer\"][\"Name\"].value_counts().index[:8])\n",
        "\n",
        "\n",
        "plt.show()"
      ],
      "execution_count": 37,
      "outputs": [
        {
          "output_type": "display_data",
          "data": {
            "image/png": "[encoded data removed]",
            "text/plain": [
              "<Figure size 360x720 with 2 Axes>"
            ]
          },
          "metadata": {
            "needs_background": "light"
          }
        }
      ]
    },
    {
      "cell_type": "markdown",
      "metadata": {
        "id": "fHN_EHv65Lu7"
      },
      "source": [
        "#Conclusão"
      ]
    },
    {
      "cell_type": "markdown",
      "metadata": {
        "id": "z1-PijLM5R2T"
      },
      "source": [
        "Com esse projeto, foi possível colocar em prática os conceitos aprendidos nas aulas do Turing Academy de limpeza e análise de dados, de modo que se tornaram possíveis as diversas análises acerca dos jogos olímpicos. Ao comparar algumas métricas interessantes, sejam elas entre os sexos, seus respectivos jogos, ou até mesmo entre as modalidades de Inverno e Verão e os países com mais medalhas, o entendimento desse dataset se tornou eminente."
      ]
    }
  ]
}